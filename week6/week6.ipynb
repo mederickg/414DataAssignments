{
 "cells": [
  {
   "cell_type": "code",
   "execution_count": 4,
   "metadata": {},
   "outputs": [],
   "source": [
    "import pandas as pd\n",
    "import json"
   ]
  },
  {
   "cell_type": "code",
   "execution_count": 25,
   "metadata": {},
   "outputs": [
    {
     "name": "stdout",
     "output_type": "stream",
     "text": [
      "[{'actor_id': 'nm0000212', 'name': 'Meg Ryan'}, {'actor_id': 'nm0413168', 'name': 'Hugh Jackman'}, {'actor_id': 'nm0000630', 'name': 'Liev Schreiber'}, {'actor_id': 'nm0005227', 'name': 'Breckin Meyer'}, {'actor_id': 'nm0864851', 'name': 'Kenneth Tobey'}, {'actor_id': 'nm0828288', 'name': 'Brinke Stevens'}, {'actor_id': 'nm0933983', 'name': 'R.G. Wilson'}, {'actor_id': 'nm0329491', 'name': 'John Goodwin'}]\n"
     ]
    }
   ],
   "source": [
    "with open('test.json') as f:\n",
    "    \n",
    "    actorsDict = {}\n",
    "    actorsList = []\n",
    "    \n",
    "    \n",
    "    for line in f:\n",
    "        #loads each row\n",
    "        row = (json.loads(line))\n",
    "        \n",
    "        #itterates through actors list in each row\n",
    "        for name in row['actors']:\n",
    "            \n",
    "            #adds name to dict and list if not already in it\n",
    "            if name[0] not in actorsDict:\n",
    "                actorsDict[name[0]] = {\n",
    "                    'actor_id': name[0],\n",
    "                    'name': name[1]  \n",
    "                }  \n",
    "                actorsList.append(actorsDict.get(name[0]))\n",
    "\n",
    "            #itterates through each genre in the row\n",
    "            for genre in row['genres']:\n",
    "                \n",
    "                \n",
    "print(actorsList)\n",
    "                  \n",
    "        "
   ]
  }
 ],
 "metadata": {
  "kernelspec": {
   "display_name": "Python 3",
   "language": "python",
   "name": "python3"
  },
  "language_info": {
   "codemirror_mode": {
    "name": "ipython",
    "version": 3
   },
   "file_extension": ".py",
   "mimetype": "text/x-python",
   "name": "python",
   "nbconvert_exporter": "python",
   "pygments_lexer": "ipython3",
   "version": "3.10.2"
  },
  "orig_nbformat": 4,
  "vscode": {
   "interpreter": {
    "hash": "949777d72b0d2535278d3dc13498b2535136f6dfe0678499012e853ee9abcab1"
   }
  }
 },
 "nbformat": 4,
 "nbformat_minor": 2
}

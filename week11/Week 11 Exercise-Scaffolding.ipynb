{
 "cells": [
  {
   "cell_type": "markdown",
   "id": "fc409670",
   "metadata": {},
   "source": [
    "# Determine Movie Genre by Neighboring Movies\n",
    "\n",
    "Using the k-nearest neighbors method, use the top-k most similar movies to a target film to predict the target movie's genre.\n",
    "\n",
    "Use Jaccard similarity based on actors in each movie to rank movies and select the top-k most similar movies."
   ]
  },
  {
   "cell_type": "code",
   "execution_count": 1,
   "id": "47d80463",
   "metadata": {},
   "outputs": [],
   "source": [
    "import json\n",
    "\n",
    "import pandas as pd\n",
    "import numpy as np\n",
    "\n",
    "from scipy.sparse import lil_matrix\n",
    "\n",
    "import matplotlib.pyplot as plt\n"
   ]
  },
  {
   "cell_type": "code",
   "execution_count": 3,
   "id": "09e36e97",
   "metadata": {},
   "outputs": [],
   "source": [
    "actor_name_map = {}\n",
    "movie_actor_map = {}\n",
    "actor_genre_map = {}\n",
    "\n",
    "\n",
    "with open(\"movies.json\", \"r\") as in_file:\n",
    "    for line in in_file:\n",
    "        \n",
    "        # Read the movie on this line and parse its json\n",
    "        this_movie = json.loads(line)\n",
    "        \n",
    "        # Skip movies with no ratings\n",
    "        if len(this_movie[\"rating\"]) == 0:\n",
    "            continue\n",
    "                    \n",
    "        # Add all actors to the id->name map\n",
    "        for actor_id,actor_name in this_movie['actors']:\n",
    "            actor_name_map[actor_id] = actor_name\n",
    "            \n",
    "        # For each actor, add this movie's genres to that actor's list\n",
    "        for actor_id,actor_name in this_movie['actors']:\n",
    "            this_actors_genres = actor_genre_map.get(actor_id, {})\n",
    "            \n",
    "            # Increment the count of genres for this actor\n",
    "            for g in this_movie[\"genres\"]:\n",
    "                this_actors_genres[g] = this_actors_genres.get(g, 0) + 1\n",
    "                \n",
    "            # Update the map\n",
    "            actor_genre_map[actor_id] = this_actors_genres\n",
    "            \n",
    "        # Finished with this film\n",
    "        movie_actor_map[this_movie[\"imdb_id\"]] = ({\n",
    "            \"movie\": this_movie[\"title\"],\n",
    "            \"actors\": set([item[0] for item in this_movie['actors']]),\n",
    "            \"genres\": this_movie[\"genres\"],\n",
    "            \"rating\": this_movie[\"rating\"][\"avg\"]\n",
    "        })"
   ]
  },
  {
   "cell_type": "code",
   "execution_count": 4,
   "id": "2ecd8139",
   "metadata": {},
   "outputs": [
    {
     "name": "stdout",
     "output_type": "stream",
     "text": [
      "Known Actors: 29499\n",
      "Known Movies: 18841\n"
     ]
    }
   ],
   "source": [
    "print(\"Known Actors:\", len(actor_name_map))\n",
    "print(\"Known Movies:\", len(movie_actor_map))"
   ]
  },
  {
   "cell_type": "code",
   "execution_count": 5,
   "id": "07d6abab",
   "metadata": {},
   "outputs": [],
   "source": [
    "actor_id_to_index = {actor_id:i for i,actor_id in enumerate(actor_name_map.keys())}\n"
   ]
  },
  {
   "cell_type": "code",
   "execution_count": null,
   "id": "d8bb7a58",
   "metadata": {},
   "outputs": [],
   "source": []
  },
  {
   "cell_type": "code",
   "execution_count": 6,
   "id": "400cc127",
   "metadata": {},
   "outputs": [],
   "source": [
    "target_movie_id = \"tt0317705\" # The Incredibles\n",
    "# target_movie_id = \"tt0816692\" # Interstellar\n",
    "# target_movie_id = \"tt0332280\" # The Notebook"
   ]
  },
  {
   "cell_type": "code",
   "execution_count": 7,
   "id": "bf3351f5",
   "metadata": {},
   "outputs": [],
   "source": [
    "target_movie_object = movie_actor_map[target_movie_id]"
   ]
  },
  {
   "cell_type": "code",
   "execution_count": 8,
   "id": "b6c153ae",
   "metadata": {},
   "outputs": [
    {
     "data": {
      "text/plain": [
       "{'movie': 'The Incredibles',\n",
       " 'actors': {'nm0000168', 'nm0000456', 'nm0005134', 'nm0005266'},\n",
       " 'genres': ['Action', 'Adventure', 'Animation'],\n",
       " 'rating': 8.0}"
      ]
     },
     "execution_count": 8,
     "metadata": {},
     "output_type": "execute_result"
    }
   ],
   "source": [
    "target_movie_object"
   ]
  },
  {
   "cell_type": "markdown",
   "id": "83f5df0c",
   "metadata": {},
   "source": [
    "## Find the Most Similar Movies by Jaccard Similarity in Actor"
   ]
  },
  {
   "cell_type": "code",
   "execution_count": 31,
   "id": "7de6b181",
   "metadata": {},
   "outputs": [],
   "source": [
    "movie_similarities = []\n",
    "\n",
    "\n",
    "def jaccard_similarity (movie1, movie2):\n",
    "    intersection = len(movie1.intersection(movie2))\n",
    "    union = len(movie1.union(movie2))\n",
    "    \n",
    "    if union != 0:\n",
    "        return intersection/union\n",
    "    else:\n",
    "        return 0\n",
    "\n",
    "for this_movie_id,this_movie_obj in movie_actor_map.items():\n",
    "    # Skip the target movie\n",
    "    if this_movie_id == target_movie_id:\n",
    "        continue\n",
    "    \n",
    "\n",
    "    movie1_actors = set(this_movie_obj['actors'])\n",
    "    target_actors = set(target_movie_object['actors'])\n",
    "\n",
    "        \n",
    "    similarity = jaccard_similarity(movie1_actors, target_actors)        \n",
    "            \n",
    "    # Add this movie and its Jaccard similarity to the list, so we can rank at the end\n",
    "    movie_similarities.append({\n",
    "        \"movie\": this_movie_id,\n",
    "        \"jaccard\": similarity,\n",
    "    })"
   ]
  },
  {
   "cell_type": "code",
   "execution_count": 32,
   "id": "da0bb805",
   "metadata": {},
   "outputs": [
    {
     "data": {
      "text/html": [
       "<div>\n",
       "<style scoped>\n",
       "    .dataframe tbody tr th:only-of-type {\n",
       "        vertical-align: middle;\n",
       "    }\n",
       "\n",
       "    .dataframe tbody tr th {\n",
       "        vertical-align: top;\n",
       "    }\n",
       "\n",
       "    .dataframe thead th {\n",
       "        text-align: right;\n",
       "    }\n",
       "</style>\n",
       "<table border=\"1\" class=\"dataframe\">\n",
       "  <thead>\n",
       "    <tr style=\"text-align: right;\">\n",
       "      <th></th>\n",
       "      <th>movie</th>\n",
       "      <th>jaccard</th>\n",
       "    </tr>\n",
       "  </thead>\n",
       "  <tbody>\n",
       "    <tr>\n",
       "      <th>13851</th>\n",
       "      <td>tt3606756</td>\n",
       "      <td>0.333333</td>\n",
       "    </tr>\n",
       "    <tr>\n",
       "      <th>11215</th>\n",
       "      <td>tt2120176</td>\n",
       "      <td>0.250000</td>\n",
       "    </tr>\n",
       "    <tr>\n",
       "      <th>12484</th>\n",
       "      <td>tt2635824</td>\n",
       "      <td>0.250000</td>\n",
       "    </tr>\n",
       "    <tr>\n",
       "      <th>16138</th>\n",
       "      <td>tt5804038</td>\n",
       "      <td>0.250000</td>\n",
       "    </tr>\n",
       "    <tr>\n",
       "      <th>1390</th>\n",
       "      <td>tt0290831</td>\n",
       "      <td>0.250000</td>\n",
       "    </tr>\n",
       "    <tr>\n",
       "      <th>...</th>\n",
       "      <td>...</td>\n",
       "      <td>...</td>\n",
       "    </tr>\n",
       "    <tr>\n",
       "      <th>6307</th>\n",
       "      <td>tt11364112</td>\n",
       "      <td>0.000000</td>\n",
       "    </tr>\n",
       "    <tr>\n",
       "      <th>6306</th>\n",
       "      <td>tt11362842</td>\n",
       "      <td>0.000000</td>\n",
       "    </tr>\n",
       "    <tr>\n",
       "      <th>6305</th>\n",
       "      <td>tt1135989</td>\n",
       "      <td>0.000000</td>\n",
       "    </tr>\n",
       "    <tr>\n",
       "      <th>6304</th>\n",
       "      <td>tt1135985</td>\n",
       "      <td>0.000000</td>\n",
       "    </tr>\n",
       "    <tr>\n",
       "      <th>18839</th>\n",
       "      <td>tt9906644</td>\n",
       "      <td>0.000000</td>\n",
       "    </tr>\n",
       "  </tbody>\n",
       "</table>\n",
       "<p>18840 rows × 2 columns</p>\n",
       "</div>"
      ],
      "text/plain": [
       "            movie   jaccard\n",
       "13851   tt3606756  0.333333\n",
       "11215   tt2120176  0.250000\n",
       "12484   tt2635824  0.250000\n",
       "16138   tt5804038  0.250000\n",
       "1390    tt0290831  0.250000\n",
       "...           ...       ...\n",
       "6307   tt11364112  0.000000\n",
       "6306   tt11362842  0.000000\n",
       "6305    tt1135989  0.000000\n",
       "6304    tt1135985  0.000000\n",
       "18839   tt9906644  0.000000\n",
       "\n",
       "[18840 rows x 2 columns]"
      ]
     },
     "execution_count": 32,
     "metadata": {},
     "output_type": "execute_result"
    }
   ],
   "source": [
    "similarity_df = pd.DataFrame(movie_similarities, columns=[\"movie\", \"jaccard\"])\n",
    "df_sorted_desc = similarity_df.sort_values('jaccard', ascending=False)\n",
    "\n",
    "df_sorted_desc"
   ]
  },
  {
   "cell_type": "code",
   "execution_count": 46,
   "id": "1d0beaf2",
   "metadata": {},
   "outputs": [
    {
     "name": "stdout",
     "output_type": "stream",
     "text": [
      "Match #1: Incredibles 2\n",
      "Match #2: Young Jeezy: A Hustlerz Ambition\n",
      "Match #3: We Ride: The Story of Snowboarding\n",
      "Match #4: I Am Not Your Negro\n",
      "Match #5: Rock That Uke\n"
     ]
    }
   ],
   "source": [
    "first_5_rows = df_sorted_desc.iloc[:5]\n",
    "\n",
    "first_5_rows\n",
    "\n",
    "ids = []\n",
    "\n",
    "for index, row in first_5_rows.iterrows():\n",
    "    movie_id = row['movie']\n",
    "    ids.append(movie_id)\n",
    "    \n",
    "for index, id in enumerate(ids):\n",
    "    print(f\"Match #{index+1}: {movie_actor_map[id]['movie']}\") \n"
   ]
  },
  {
   "cell_type": "markdown",
   "id": "36fb3faf",
   "metadata": {},
   "source": [
    "## Use the top-k similar movies to infer genre"
   ]
  },
  {
   "cell_type": "code",
   "execution_count": null,
   "id": "ba9bf8af",
   "metadata": {},
   "outputs": [],
   "source": [
    "k_nn = 1"
   ]
  },
  {
   "cell_type": "code",
   "execution_count": null,
   "id": "e830fcfc",
   "metadata": {},
   "outputs": [],
   "source": [
    "similarity_df.sort_values(by=\"jaccard\", ascending=False).head(k_nn)"
   ]
  },
  {
   "cell_type": "code",
   "execution_count": null,
   "id": "feb58259",
   "metadata": {},
   "outputs": [],
   "source": [
    "# TODO: count the genres of the top k movies, printing out the most common\n",
    "#. genres as the predicted genre for the target movie"
   ]
  },
  {
   "cell_type": "code",
   "execution_count": null,
   "id": "1b76ba9d",
   "metadata": {},
   "outputs": [],
   "source": [
    "this_movie"
   ]
  },
  {
   "cell_type": "code",
   "execution_count": null,
   "id": "eb698ae2",
   "metadata": {},
   "outputs": [],
   "source": []
  },
  {
   "cell_type": "markdown",
   "id": "a320b769",
   "metadata": {},
   "source": [
    "## Use the top-k similar movies to infer rating"
   ]
  },
  {
   "cell_type": "code",
   "execution_count": null,
   "id": "f20c71a4",
   "metadata": {},
   "outputs": [],
   "source": [
    "# TODO: Take the average rating from these top-k movies"
   ]
  },
  {
   "cell_type": "code",
   "execution_count": null,
   "id": "a99b4bce",
   "metadata": {},
   "outputs": [],
   "source": []
  }
 ],
 "metadata": {
  "kernelspec": {
   "display_name": "Python 3 (ipykernel)",
   "language": "python",
   "name": "python3"
  },
  "language_info": {
   "codemirror_mode": {
    "name": "ipython",
    "version": 3
   },
   "file_extension": ".py",
   "mimetype": "text/x-python",
   "name": "python",
   "nbconvert_exporter": "python",
   "pygments_lexer": "ipython3",
   "version": "3.8.8"
  }
 },
 "nbformat": 4,
 "nbformat_minor": 5
}

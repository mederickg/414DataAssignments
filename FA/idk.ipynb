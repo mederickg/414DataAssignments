{
 "cells": [
  {
   "cell_type": "code",
   "execution_count": null,
   "metadata": {},
   "outputs": [],
   "source": [
    "await fetch(\"https://data.stackexchange.com/query/save/1/1727672\", {\n",
    "    \"credentials\": \"include\",\n",
    "    \"headers\": {\n",
    "        \"User-Agent\": \"Mozilla/5.0 (Macintosh; Intel Mac OS X 10.15; rv:109.0) Gecko/20100101 Firefox/111.0\",\n",
    "        \"Accept\": \"*/*\",\n",
    "        \"Accept-Language\": \"en-US,en;q=0.5\",\n",
    "        \"Content-Type\": \"application/x-www-form-urlencoded\",\n",
    "        \"X-Requested-With\": \"XMLHttpRequest\",\n",
    "        \"Sec-Fetch-Dest\": \"empty\",\n",
    "        \"Sec-Fetch-Mode\": \"cors\",\n",
    "        \"Sec-Fetch-Site\": \"same-origin\"\n",
    "    },\n",
    "    \"referrer\": \"https://data.stackexchange.com/stackoverflow/query/edit/1727672\",\n",
    "    \"body\": \"title=posts&description=&sql=SELECT+*%0D%0AFROM+PostHistory%0D%0AWHERE+UserId+%3C%3D+500%0D%0A&g-recaptcha-response=\",\n",
    "    \"method\": \"POST\",\n",
    "    \"mode\": \"cors\"\n",
    "});"
   ]
  }
 ],
 "metadata": {
  "kernelspec": {
   "display_name": "venv",
   "language": "python",
   "name": "python3"
  },
  "language_info": {
   "codemirror_mode": {
    "name": "ipython",
    "version": 3
   },
   "file_extension": ".py",
   "mimetype": "text/x-python",
   "name": "python",
   "nbconvert_exporter": "python",
   "pygments_lexer": "ipython3",
   "version": "3.8.8"
  },
  "orig_nbformat": 4,
  "vscode": {
   "interpreter": {
    "hash": "c392d49873fef170248b5c9c32885e118dffaed9bdd7d53364173c59e539982a"
   }
  }
 },
 "nbformat": 4,
 "nbformat_minor": 2
}

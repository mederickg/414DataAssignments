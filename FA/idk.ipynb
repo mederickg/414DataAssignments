{
 "cells": [
  {
   "cell_type": "code",
   "execution_count": 2,
   "metadata": {},
   "outputs": [],
   "source": [
    "import pandas as pd"
   ]
  },
  {
   "cell_type": "code",
   "execution_count": 4,
   "metadata": {},
   "outputs": [
    {
     "data": {
      "text/html": [
       "<div>\n",
       "<style scoped>\n",
       "    .dataframe tbody tr th:only-of-type {\n",
       "        vertical-align: middle;\n",
       "    }\n",
       "\n",
       "    .dataframe tbody tr th {\n",
       "        vertical-align: top;\n",
       "    }\n",
       "\n",
       "    .dataframe thead th {\n",
       "        text-align: right;\n",
       "    }\n",
       "</style>\n",
       "<table border=\"1\" class=\"dataframe\">\n",
       "  <thead>\n",
       "    <tr style=\"text-align: right;\">\n",
       "      <th></th>\n",
       "      <th>uid</th>\n",
       "      <th>area</th>\n",
       "      <th>outages</th>\n",
       "      <th>customers</th>\n",
       "      <th>percent_out</th>\n",
       "      <th>dt_stamp</th>\n",
       "    </tr>\n",
       "  </thead>\n",
       "  <tbody>\n",
       "    <tr>\n",
       "      <th>0</th>\n",
       "      <td>Allegany2023-02-26T08:30:34</td>\n",
       "      <td>Allegany</td>\n",
       "      <td>0</td>\n",
       "      <td>37530</td>\n",
       "      <td>0.00</td>\n",
       "      <td>02/26/2023 08:30:34 AM</td>\n",
       "    </tr>\n",
       "    <tr>\n",
       "      <th>1</th>\n",
       "      <td>Anne_Arundel2023-02-26T08:30:34</td>\n",
       "      <td>Anne Arundel</td>\n",
       "      <td>0</td>\n",
       "      <td>260037</td>\n",
       "      <td>0.00</td>\n",
       "      <td>02/26/2023 08:30:34 AM</td>\n",
       "    </tr>\n",
       "    <tr>\n",
       "      <th>2</th>\n",
       "      <td>Baltimore2023-02-26T08:30:34</td>\n",
       "      <td>Baltimore</td>\n",
       "      <td>54</td>\n",
       "      <td>375845</td>\n",
       "      <td>0.01</td>\n",
       "      <td>02/26/2023 08:30:34 AM</td>\n",
       "    </tr>\n",
       "    <tr>\n",
       "      <th>3</th>\n",
       "      <td>Baltimore_City2023-02-26T08:30:34</td>\n",
       "      <td>Baltimore City</td>\n",
       "      <td>0</td>\n",
       "      <td>281977</td>\n",
       "      <td>0.00</td>\n",
       "      <td>02/26/2023 08:30:34 AM</td>\n",
       "    </tr>\n",
       "    <tr>\n",
       "      <th>4</th>\n",
       "      <td>Calvert2023-02-26T08:30:34</td>\n",
       "      <td>Calvert</td>\n",
       "      <td>0</td>\n",
       "      <td>41830</td>\n",
       "      <td>0.00</td>\n",
       "      <td>02/26/2023 08:30:34 AM</td>\n",
       "    </tr>\n",
       "  </tbody>\n",
       "</table>\n",
       "</div>"
      ],
      "text/plain": [
       "                                 uid            area  outages  customers  \\\n",
       "0        Allegany2023-02-26T08:30:34        Allegany        0      37530   \n",
       "1    Anne_Arundel2023-02-26T08:30:34    Anne Arundel        0     260037   \n",
       "2       Baltimore2023-02-26T08:30:34       Baltimore       54     375845   \n",
       "3  Baltimore_City2023-02-26T08:30:34  Baltimore City        0     281977   \n",
       "4         Calvert2023-02-26T08:30:34         Calvert        0      41830   \n",
       "\n",
       "   percent_out                dt_stamp  \n",
       "0         0.00  02/26/2023 08:30:34 AM  \n",
       "1         0.00  02/26/2023 08:30:34 AM  \n",
       "2         0.01  02/26/2023 08:30:34 AM  \n",
       "3         0.00  02/26/2023 08:30:34 AM  \n",
       "4         0.00  02/26/2023 08:30:34 AM  "
      ]
     },
     "execution_count": 4,
     "metadata": {},
     "output_type": "execute_result"
    }
   ],
   "source": [
    "df = pd.read_csv('power.csv')\n",
    "\n",
    "df.head()"
   ]
  }
 ],
 "metadata": {
  "kernelspec": {
   "display_name": "venv",
   "language": "python",
   "name": "python3"
  },
  "language_info": {
   "codemirror_mode": {
    "name": "ipython",
    "version": 3
   },
   "file_extension": ".py",
   "mimetype": "text/x-python",
   "name": "python",
   "nbconvert_exporter": "python",
   "pygments_lexer": "ipython3",
   "version": "3.8.8"
  },
  "orig_nbformat": 4,
  "vscode": {
   "interpreter": {
    "hash": "c392d49873fef170248b5c9c32885e118dffaed9bdd7d53364173c59e539982a"
   }
  }
 },
 "nbformat": 4,
 "nbformat_minor": 2
}
